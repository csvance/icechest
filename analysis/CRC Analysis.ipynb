{
 "cells": [
  {
   "cell_type": "code",
   "execution_count": 45,
   "metadata": {},
   "outputs": [],
   "source": [
    "startup = \"\"\"\n",
    "1.356620600000000,170,,\n",
    "1.356716100000000,2,,\n",
    "1.356811600000000,1,,\n",
    "1.356907100000000,1,,\n",
    "1.357002600000000,253,,\n",
    "1.357098100000000,172,,\n",
    "\"\"\"\n",
    "first = \"\"\"\n",
    "2.460576100000000,13,,\n",
    "2.460671600000000,48,,\n",
    "2.460767000000000,48,,\n",
    "2.460862500000000,49,,\n",
    "2.460957900000000,52,,\n",
    "2.461053400000000,48,,\n",
    "2.461148800000000,48,,\n",
    "2.461244300000000,49,,\n",
    "2.461339700000000,49,,\n",
    "2.461435200000000,51,,\n",
    "2.461530700000000,49,,\n",
    "2.461626100000000,48,,\n",
    "2.461721600000000,48,,\n",
    "2.461817000000000,48,,\n",
    "2.461912500000000,49,,\n",
    "2.462007900000000,48,,\n",
    "2.462103400000000,48,,\n",
    "2.462198800000000,49,,\n",
    "2.462294300000000,49,,\n",
    "2.462389700000000,48,,\n",
    "2.462485200000000,49,,\n",
    "2.462580700000000,48,,\n",
    "2.462676100000000,0,,\n",
    "2.462771600000000,0,,\n",
    "2.462867000000000,0,,\n",
    "2.462962400000000,0,,\n",
    "2.463057900000000,0,,\n",
    "2.463153400000000,3,,\n",
    "2.463248800000000,255,,\n",
    "2.463344300000000,10,,\n",
    "\"\"\"\n",
    "second = \"\"\"\n",
    "3.560224000000000,13,,\n",
    "3.560319500000000,48,,\n",
    "3.560414900000000,48,,\n",
    "3.560510400000000,49,,\n",
    "3.560605800000000,52,,\n",
    "3.560701300000000,48,,\n",
    "3.560796700000000,48,,\n",
    "3.560892200000000,49,,\n",
    "3.560987600000000,49,,\n",
    "3.561083100000000,51,,\n",
    "3.561178500000000,49,,\n",
    "3.561274000000000,48,,\n",
    "3.561369400000000,48,,\n",
    "3.561464900000000,48,,\n",
    "3.561560300000000,50,,\n",
    "3.561655800000000,48,,\n",
    "3.561751200000000,48,,\n",
    "3.561846700000000,49,,\n",
    "3.561942200000000,49,,\n",
    "3.562037600000000,48,,\n",
    "3.562133100000000,49,,\n",
    "3.562228500000000,48,,\n",
    "3.562324000000000,0,,\n",
    "3.562419400000000,0,,\n",
    "3.562514900000000,0,,\n",
    "3.562610300000000,0,,\n",
    "3.562705800000000,0,,\n",
    "3.562801200000000,4,,\n",
    "3.562896700000000,0,,\n",
    "3.562992100000000,10,,\n",
    "\"\"\""
   ]
  },
  {
   "cell_type": "code",
   "execution_count": 48,
   "metadata": {},
   "outputs": [
    {
     "name": "stdout",
     "output_type": "stream",
     "text": [
      "Sent CRC: 253\n",
      "Calc CRC: 253\n",
      "Sent CRC: 255\n",
      "Calc CRC: 255\n",
      "Sent CRC: 0\n",
      "Calc CRC: 0\n"
     ]
    }
   ],
   "source": [
    "import numpy as np\n",
    "\n",
    "def crc(data):\n",
    "\n",
    "    numbers = []\n",
    "\n",
    "    for row in data.split(\"\\n\"):\n",
    "        if row == \"\":\n",
    "            continue\n",
    "        fields = row.split(\",\")\n",
    "        if len(fields) == 0:\n",
    "            continue\n",
    "        numbers.append(fields[1])\n",
    "\n",
    "    packet = np.array(numbers, dtype=np.uint8)\n",
    "\n",
    "    sent_crc = packet[packet.size-2]\n",
    "\n",
    "    calc_crc = (np.sum(packet[packet.size-2])) % 256\n",
    "\n",
    "    print(\"Sent CRC: %d\" % sent_crc)\n",
    "    print(\"Calc CRC: %d\" % calc_crc)\n",
    "    \n",
    "crc(startup)\n",
    "crc(first)\n",
    "crc(second)"
   ]
  },
  {
   "cell_type": "code",
   "execution_count": 21,
   "metadata": {},
   "outputs": [
    {
     "ename": "TypeError",
     "evalue": "cannot perform reduce with flexible type",
     "output_type": "error",
     "traceback": [
      "\u001b[0;31m---------------------------------------------------------------------------\u001b[0m",
      "\u001b[0;31mTypeError\u001b[0m                                 Traceback (most recent call last)",
      "\u001b[0;32m<ipython-input-21-f1db94e1b4fd>\u001b[0m in \u001b[0;36m<module>\u001b[0;34m\u001b[0m\n\u001b[0;32m----> 1\u001b[0;31m \u001b[0mnp\u001b[0m\u001b[0;34m.\u001b[0m\u001b[0msum\u001b[0m\u001b[0;34m(\u001b[0m\u001b[0mpacket\u001b[0m\u001b[0;34m[\u001b[0m\u001b[0;34m:\u001b[0m\u001b[0mpacket\u001b[0m\u001b[0;34m.\u001b[0m\u001b[0msize\u001b[0m\u001b[0;34m-\u001b[0m\u001b[0;36m2\u001b[0m\u001b[0;34m]\u001b[0m\u001b[0;34m)\u001b[0m\u001b[0;34m\u001b[0m\u001b[0;34m\u001b[0m\u001b[0m\n\u001b[0m",
      "\u001b[0;32m/usr/local/lib/python3.7/site-packages/numpy/core/fromnumeric.py\u001b[0m in \u001b[0;36msum\u001b[0;34m(a, axis, dtype, out, keepdims, initial)\u001b[0m\n\u001b[1;32m   1928\u001b[0m \u001b[0;34m\u001b[0m\u001b[0m\n\u001b[1;32m   1929\u001b[0m     return _wrapreduction(a, np.add, 'sum', axis, dtype, out, keepdims=keepdims,\n\u001b[0;32m-> 1930\u001b[0;31m                           initial=initial)\n\u001b[0m\u001b[1;32m   1931\u001b[0m \u001b[0;34m\u001b[0m\u001b[0m\n\u001b[1;32m   1932\u001b[0m \u001b[0;34m\u001b[0m\u001b[0m\n",
      "\u001b[0;32m/usr/local/lib/python3.7/site-packages/numpy/core/fromnumeric.py\u001b[0m in \u001b[0;36m_wrapreduction\u001b[0;34m(obj, ufunc, method, axis, dtype, out, **kwargs)\u001b[0m\n\u001b[1;32m     81\u001b[0m                 \u001b[0;32mreturn\u001b[0m \u001b[0mreduction\u001b[0m\u001b[0;34m(\u001b[0m\u001b[0maxis\u001b[0m\u001b[0;34m=\u001b[0m\u001b[0maxis\u001b[0m\u001b[0;34m,\u001b[0m \u001b[0mout\u001b[0m\u001b[0;34m=\u001b[0m\u001b[0mout\u001b[0m\u001b[0;34m,\u001b[0m \u001b[0;34m**\u001b[0m\u001b[0mpasskwargs\u001b[0m\u001b[0;34m)\u001b[0m\u001b[0;34m\u001b[0m\u001b[0;34m\u001b[0m\u001b[0m\n\u001b[1;32m     82\u001b[0m \u001b[0;34m\u001b[0m\u001b[0m\n\u001b[0;32m---> 83\u001b[0;31m     \u001b[0;32mreturn\u001b[0m \u001b[0mufunc\u001b[0m\u001b[0;34m.\u001b[0m\u001b[0mreduce\u001b[0m\u001b[0;34m(\u001b[0m\u001b[0mobj\u001b[0m\u001b[0;34m,\u001b[0m \u001b[0maxis\u001b[0m\u001b[0;34m,\u001b[0m \u001b[0mdtype\u001b[0m\u001b[0;34m,\u001b[0m \u001b[0mout\u001b[0m\u001b[0;34m,\u001b[0m \u001b[0;34m**\u001b[0m\u001b[0mpasskwargs\u001b[0m\u001b[0;34m)\u001b[0m\u001b[0;34m\u001b[0m\u001b[0;34m\u001b[0m\u001b[0m\n\u001b[0m\u001b[1;32m     84\u001b[0m \u001b[0;34m\u001b[0m\u001b[0m\n\u001b[1;32m     85\u001b[0m \u001b[0;34m\u001b[0m\u001b[0m\n",
      "\u001b[0;31mTypeError\u001b[0m: cannot perform reduce with flexible type"
     ]
    }
   ],
   "source": [
    "np.sum(packet[:packet.size-2])"
   ]
  },
  {
   "cell_type": "code",
   "execution_count": null,
   "metadata": {},
   "outputs": [],
   "source": []
  }
 ],
 "metadata": {
  "kernelspec": {
   "display_name": "Python 3",
   "language": "python",
   "name": "python3"
  },
  "language_info": {
   "codemirror_mode": {
    "name": "ipython",
    "version": 3
   },
   "file_extension": ".py",
   "mimetype": "text/x-python",
   "name": "python",
   "nbconvert_exporter": "python",
   "pygments_lexer": "ipython3",
   "version": "3.7.1"
  }
 },
 "nbformat": 4,
 "nbformat_minor": 2
}
